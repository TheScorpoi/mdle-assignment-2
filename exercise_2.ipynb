{
 "cells": [
  {
   "attachments": {},
   "cell_type": "markdown",
   "metadata": {},
   "source": [
    "## Exercise 2"
   ]
  },
  {
   "cell_type": "code",
   "execution_count": 3,
   "metadata": {},
   "outputs": [
    {
     "name": "stdout",
     "output_type": "stream",
     "text": [
      "Root-mean-square error = 1.0679537575423779\n",
      "Mean absolute error = 0.8069672838032932\n",
      "Standard deviation of ratings = 1.1320886930049068\n"
     ]
    }
   ],
   "source": [
    "from pyspark.sql import SparkSession\n",
    "from pyspark.ml.recommendation import ALS\n",
    "from pyspark.ml.evaluation import RegressionEvaluator\n",
    "from pyspark.sql.functions import stddev\n",
    "from pyspark.sql.functions import col\n",
    "\n",
    "\n",
    "# Create a SparkSession\n",
    "spark = SparkSession.builder.appName('movie-recommender').getOrCreate()\n",
    "\n",
    "# Load the ratings data\n",
    "ratings_df = spark.read \\\n",
    "    .format(\"csv\") \\\n",
    "    .option(\"header\", \"false\") \\\n",
    "    .option(\"delimiter\", \"\\t\") \\\n",
    "    .load(\"ml-100k/u.data\") \\\n",
    "    .toDF(\"user_id\", \"movie_id\", \"rating\", \"timestamp\")\n",
    "\n",
    "# Convert the user_id column to integer\n",
    "ratings_df = ratings_df \\\n",
    "    .withColumn(\"user_id\", ratings_df[\"user_id\"].cast(\"integer\")) \\\n",
    "    .withColumn(\"movie_id\", ratings_df[\"movie_id\"].cast(\"integer\")) \\\n",
    "    .withColumn(\"rating\", col(\"rating\").cast(\"double\"))\n",
    "\n",
    "# Split the dataset into training and test sets\n",
    "(training_data, test_data) = ratings_df.randomSplit([0.9, 0.1])\n",
    "\n",
    "# Build the recommendation model using ALS\n",
    "als = ALS(maxIter=20, regParam=0.01, userCol=\"user_id\", itemCol=\"movie_id\", ratingCol=\"rating\",\n",
    "          coldStartStrategy=\"drop\")\n",
    "\n",
    "model = als.fit(training_data)\n",
    "\n",
    "predictions = model.transform(test_data)\n",
    "evaluator_rmse = RegressionEvaluator(metricName=\"rmse\", labelCol=\"rating\", predictionCol=\"prediction\")\n",
    "evaluator_mae = RegressionEvaluator(metricName=\"mae\", labelCol=\"rating\", predictionCol=\"prediction\")\n",
    "rmse = evaluator_rmse.evaluate(predictions)\n",
    "mae = evaluator_mae.evaluate(predictions)\n",
    "stddev_ = predictions.select(stddev('rating')).collect()[0][0]\n",
    "\n",
    "print(\"Root-mean-square error = \" + str(rmse))\n",
    "print(\"Mean absolute error = \" + str(mae))\n",
    "print(\"Standard deviation of ratings = \" + str(stddev_))\n",
    "\n",
    "#user_recs=model.recommendForAllUsers(10).show(10)"
   ]
  },
  {
   "cell_type": "code",
   "execution_count": 16,
   "metadata": {},
   "outputs": [
    {
     "name": "stderr",
     "output_type": "stream",
     "text": [
      "[Stage 1703:====================================>                (69 + 8) / 100]\r"
     ]
    },
    {
     "name": "stdout",
     "output_type": "stream",
     "text": [
      "+-------+--------+---------+\n",
      "|user_id|movie_id|   rating|\n",
      "+-------+--------+---------+\n",
      "|      1|    1129|  6.70789|\n",
      "|      1|     361|6.0444226|\n",
      "|      2|     968|6.2812023|\n",
      "|      2|    1643|6.1274323|\n",
      "|      3|    1315| 7.327296|\n",
      "|      3|    1240|7.0101886|\n",
      "|      4|    1160|11.327816|\n",
      "|      4|    1319|10.987577|\n",
      "|      5|    1368|7.6873527|\n",
      "|      5|     793|7.1208434|\n",
      "|      6|    1203|5.8663774|\n",
      "|      6|     641|5.8135066|\n",
      "|      7|    1172| 6.261402|\n",
      "|      7|    1643|6.0340104|\n",
      "|      8|    1126|7.2294436|\n",
      "|      8|      57|7.1731596|\n",
      "|      9|    1184| 9.622095|\n",
      "|      9|    1643| 9.221812|\n",
      "|     10|    1643|5.5851517|\n",
      "|     10|     318|5.1168227|\n",
      "+-------+--------+---------+\n",
      "only showing top 20 rows\n",
      "\n"
     ]
    },
    {
     "name": "stderr",
     "output_type": "stream",
     "text": [
      "                                                                                \r"
     ]
    }
   ],
   "source": [
    "    from pyspark.sql.functions import explode\n",
    "\n",
    "    userRecs = model.recommendForAllUsers(10)\n",
    "\n",
    "    userRecs = userRecs.select('user_id', explode('recommendations').alias('rec'))\n",
    "    userRecs = userRecs.select('user_id', 'rec.movie_id', 'rec.rating')\n",
    "\n",
    "    userRecs.show()"
   ]
  },
  {
   "cell_type": "code",
   "execution_count": 19,
   "metadata": {},
   "outputs": [
    {
     "name": "stdout",
     "output_type": "stream",
     "text": [
      "Root-mean-square error = 1.0301542959288181\n",
      "Mean absolute error = 0.7863825669192229\n",
      "Standard deviation of ratings = 1.118840716891092\n",
      "Hit rate = 70.68%\n"
     ]
    },
    {
     "name": "stderr",
     "output_type": "stream",
     "text": [
      "[Stage 3447:============================================>        (84 + 8) / 100]\r"
     ]
    },
    {
     "name": "stdout",
     "output_type": "stream",
     "text": [
      "+-------+--------------------+\n",
      "|user_id|     recommendations|\n",
      "+-------+--------------------+\n",
      "|      1|[{613, 6.4316835}...|\n",
      "|      3|[{1069, 6.427256}...|\n",
      "|      5|[{1643, 6.9702296...|\n",
      "|      6|[{1203, 6.3956494...|\n",
      "|      9|[{74, 10.248373},...|\n",
      "|     12|[{534, 7.0750175}...|\n",
      "|     13|[{1615, 7.0178604...|\n",
      "|     15|[{1153, 6.428089}...|\n",
      "|     16|[{916, 6.5682964}...|\n",
      "|     17|[{267, 10.156244}...|\n",
      "+-------+--------------------+\n",
      "only showing top 10 rows\n",
      "\n"
     ]
    },
    {
     "name": "stderr",
     "output_type": "stream",
     "text": [
      "                                                                                \r"
     ]
    }
   ],
   "source": [
    "from pyspark.sql.functions import abs\n",
    "\n",
    "# Create a SparkSession\n",
    "spark = SparkSession.builder.appName('movie-recommender').getOrCreate()\n",
    "\n",
    "# Load the ratings data\n",
    "ratings_df = spark.read \\\n",
    "    .format(\"csv\") \\\n",
    "    .option(\"header\", \"false\") \\\n",
    "    .option(\"delimiter\", \"\\t\") \\\n",
    "    .load(\"ml-100k/u.data\") \\\n",
    "    .toDF(\"user_id\", \"movie_id\", \"rating\", \"timestamp\")\n",
    "\n",
    "# Convert the user_id and movie_id columns to integer\n",
    "ratings_df = ratings_df \\\n",
    "    .withColumn(\"user_id\", ratings_df[\"user_id\"].cast(\"integer\")) \\\n",
    "    .withColumn(\"movie_id\", ratings_df[\"movie_id\"].cast(\"integer\")) \\\n",
    "    .withColumn(\"rating\", ratings_df[\"rating\"].cast(\"double\"))\n",
    "\n",
    "# Split the dataset into training and test sets\n",
    "(training_data, test_data) = ratings_df.randomSplit([0.9, 0.1])\n",
    "\n",
    "# Build the recommendation model using ALS\n",
    "als = ALS(maxIter=10, regParam=0.01, userCol=\"user_id\", itemCol=\"movie_id\", ratingCol=\"rating\",\n",
    "          coldStartStrategy=\"drop\")\n",
    "\n",
    "model = als.fit(training_data)\n",
    "\n",
    "# Evaluate the model by computing the RMSE and MAE on the test data\n",
    "predictions = model.transform(test_data)\n",
    "evaluator_rmse = RegressionEvaluator(metricName=\"rmse\", labelCol=\"rating\", predictionCol=\"prediction\")\n",
    "evaluator_mae = RegressionEvaluator(metricName=\"mae\", labelCol=\"rating\", predictionCol=\"prediction\")\n",
    "rmse = evaluator_rmse.evaluate(predictions)\n",
    "mae = evaluator_mae.evaluate(predictions)\n",
    "stddev_ = predictions.select(stddev('rating')).collect()[0][0]\n",
    "\n",
    "threshold = 1  # Set the threshold for hit or miss\n",
    "\n",
    "# Calculate the percentage of correct predictions\n",
    "correct_predictions = predictions.filter(abs(predictions[\"rating\"] - predictions[\"prediction\"]) <= threshold).count()\n",
    "total_predictions = predictions.count()\n",
    "hit_rate = float(correct_predictions) / total_predictions\n",
    "\n",
    "print(\"Root-mean-square error = \" + str(rmse))\n",
    "print(\"Mean absolute error = \" + str(mae))\n",
    "print(\"Standard deviation of ratings = \" + str(stddev_))\n",
    "print(\"Hit rate = {:.2%}\".format(hit_rate))\n",
    "\n",
    "# Generate top K movie recommendations for each user\n",
    "user_recs = model.recommendForAllUsers(10).show(10)\n"
   ]
  }
 ],
 "metadata": {
  "kernelspec": {
   "display_name": "venv",
   "language": "python",
   "name": "python3"
  },
  "language_info": {
   "codemirror_mode": {
    "name": "ipython",
    "version": 3
   },
   "file_extension": ".py",
   "mimetype": "text/x-python",
   "name": "python",
   "nbconvert_exporter": "python",
   "pygments_lexer": "ipython3",
   "version": "3.10.11"
  },
  "orig_nbformat": 4
 },
 "nbformat": 4,
 "nbformat_minor": 2
}
