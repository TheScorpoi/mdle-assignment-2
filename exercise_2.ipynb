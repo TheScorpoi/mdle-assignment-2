{
 "cells": [
  {
   "attachments": {},
   "cell_type": "markdown",
   "metadata": {},
   "source": [
    "## Exercise 2"
   ]
  },
  {
   "cell_type": "code",
   "execution_count": 20,
   "metadata": {},
   "outputs": [],
   "source": [
    "from pyspark.sql import SparkSession\n",
    "from pyspark.ml.recommendation import ALS\n",
    "from pyspark.ml.evaluation import RegressionEvaluator\n",
    "from pyspark.sql.functions import stddev\n",
    "from pyspark.sql.functions import col\n",
    "from pyspark.sql.functions import explode\n",
    "from pyspark.sql.functions import abs"
   ]
  },
  {
   "attachments": {},
   "cell_type": "markdown",
   "metadata": {},
   "source": [
    "\n",
    "- Load the ratings data: Load the MovieLens dataset into a DataFrame, and convert the user_id, movie_id, and rating columns to the appropriate data types.\n",
    "- Train and evaluate the model: Split the dataset into training and test sets, and use the training set to train an ALS model. Evaluate the model using the test set, and compute the RMSE, MAE, and hit rate metrics.\n",
    "- Generate recommendations: Use the trained model to generate top K movie recommendations for each user, and display the recommendations for a sample of users."
   ]
  },
  {
   "cell_type": "code",
   "execution_count": 21,
   "metadata": {},
   "outputs": [
    {
     "name": "stdout",
     "output_type": "stream",
     "text": [
      "Root-mean-square error = 1.0511155761229622\n",
      "Mean absolute error = 0.7916485699068206\n",
      "Standard deviation of ratings = 1.1283944757275661\n",
      "Hit rate = 70.87%\n"
     ]
    },
    {
     "name": "stderr",
     "output_type": "stream",
     "text": [
      "[Stage 3835:======================================>              (72 + 8) / 100]\r"
     ]
    },
    {
     "name": "stdout",
     "output_type": "stream",
     "text": [
      "+-------+--------+---------+\n",
      "|user_id|movie_id|   rating|\n",
      "+-------+--------+---------+\n",
      "|      1|    1205|6.9682846|\n",
      "|      1|    1176| 6.199212|\n",
      "|      1|     793|6.1119885|\n",
      "|      1|     390| 5.899417|\n",
      "|      1|    1062| 5.842989|\n",
      "|      1|     611| 5.723258|\n",
      "|      1|     647|5.6879067|\n",
      "|      1|     745|5.6599145|\n",
      "|      1|    1141|5.5994134|\n",
      "|      1|     408|5.5190144|\n",
      "|      3|     767| 5.992915|\n",
      "|      3|    1598|5.5911484|\n",
      "|      3|     960|5.5557647|\n",
      "|      3|    1114|5.4302955|\n",
      "|      3|     962|5.1392417|\n",
      "|      3|     817|5.1271434|\n",
      "|      3|     880| 5.072099|\n",
      "|      3|     854| 5.070144|\n",
      "|      3|     741|5.0638375|\n",
      "|      3|    1470| 5.050608|\n",
      "+-------+--------+---------+\n",
      "only showing top 20 rows\n",
      "\n"
     ]
    },
    {
     "name": "stderr",
     "output_type": "stream",
     "text": [
      "                                                                                \r"
     ]
    }
   ],
   "source": [
    "spark = SparkSession.builder.appName('movie-recommender').getOrCreate()\n",
    "\n",
    "ratings_df = spark.read \\\n",
    "    .format(\"csv\") \\\n",
    "    .option(\"header\", \"false\") \\\n",
    "    .option(\"delimiter\", \"\\t\") \\\n",
    "    .load(\"ml-100k/u.data\") \\\n",
    "    .toDF(\"user_id\", \"movie_id\", \"rating\", \"timestamp\")\n",
    "\n",
    "ratings_df = ratings_df \\\n",
    "    .withColumn(\"user_id\", ratings_df[\"user_id\"].cast(\"integer\")) \\\n",
    "    .withColumn(\"movie_id\", ratings_df[\"movie_id\"].cast(\"integer\")) \\\n",
    "    .withColumn(\"rating\", ratings_df[\"rating\"].cast(\"double\"))\n",
    "\n",
    "(training_data, test_data) = ratings_df.randomSplit([0.9, 0.1])\n",
    "\n",
    "als = ALS(maxIter=10, regParam=0.01, userCol=\"user_id\", itemCol=\"movie_id\", ratingCol=\"rating\",\n",
    "          coldStartStrategy=\"drop\")\n",
    "\n",
    "model = als.fit(training_data)\n",
    "\n",
    "predictions = model.transform(test_data)\n",
    "evaluator_rmse = RegressionEvaluator(metricName=\"rmse\", labelCol=\"rating\", predictionCol=\"prediction\")\n",
    "evaluator_mae = RegressionEvaluator(metricName=\"mae\", labelCol=\"rating\", predictionCol=\"prediction\")\n",
    "rmse = evaluator_rmse.evaluate(predictions)\n",
    "mae = evaluator_mae.evaluate(predictions)\n",
    "stddev_ = predictions.select(stddev('rating')).collect()[0][0]\n",
    "\n",
    "threshold = 1  # Set the threshold for hit or miss\n",
    "\n",
    "# Calculate the percentage of correct predictions\n",
    "correct_predictions = predictions.filter(abs(predictions[\"rating\"] - predictions[\"prediction\"]) <= threshold).count()\n",
    "total_predictions = predictions.count()\n",
    "hit_rate = float(correct_predictions) / total_predictions\n",
    "\n",
    "print(\"Root-mean-square error = \" + str(rmse))\n",
    "print(\"Mean absolute error = \" + str(mae))\n",
    "print(\"Standard deviation of ratings = \" + str(stddev_))\n",
    "print(\"Hit rate = {:.2%}\".format(hit_rate))\n",
    "\n",
    "userRecs = model.recommendForAllUsers(10)\n",
    "\n",
    "userRecs = userRecs.select('user_id', explode('recommendations').alias('rec'))\n",
    "userRecs = userRecs.select('user_id', 'rec.movie_id', 'rec.rating')\n",
    "\n",
    "userRecs.show()\n"
   ]
  }
 ],
 "metadata": {
  "kernelspec": {
   "display_name": "venv",
   "language": "python",
   "name": "python3"
  },
  "language_info": {
   "codemirror_mode": {
    "name": "ipython",
    "version": 3
   },
   "file_extension": ".py",
   "mimetype": "text/x-python",
   "name": "python",
   "nbconvert_exporter": "python",
   "pygments_lexer": "ipython3",
   "version": "3.10.11"
  },
  "orig_nbformat": 4
 },
 "nbformat": 4,
 "nbformat_minor": 2
}
